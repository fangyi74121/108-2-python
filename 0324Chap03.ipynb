{
 "cells": [
  {
   "cell_type": "markdown",
   "metadata": {},
   "source": [
    "## 流程控制"
   ]
  },
  {
   "cell_type": "markdown",
   "metadata": {},
   "source": [
    "## if else(python 講究格式，錯誤會SyntaxError編譯錯誤)"
   ]
  },
  {
   "cell_type": "code",
   "execution_count": 3,
   "metadata": {},
   "outputs": [
    {
     "name": "stdout",
     "output_type": "stream",
     "text": [
      "b是比較大的數\n"
     ]
    }
   ],
   "source": [
    "a=3\n",
    "b=4\n",
    "if a<=b:\n",
    "    print('b是比較大的數')\n",
    "else:\n",
    "    print('a是比較大的數')"
   ]
  },
  {
   "cell_type": "markdown",
   "metadata": {},
   "source": [
    "## for 迴圈"
   ]
  },
  {
   "cell_type": "code",
   "execution_count": 5,
   "metadata": {},
   "outputs": [
    {
     "name": "stdout",
     "output_type": "stream",
     "text": [
      "55\n"
     ]
    }
   ],
   "source": [
    "sum =0\n",
    "for count in range(1,11,1): #1到10沒有11,(step1 間隔1位數)\n",
    "    sum= sum+count\n",
    "print(sum)"
   ]
  },
  {
   "cell_type": "code",
   "execution_count": 6,
   "metadata": {},
   "outputs": [
    {
     "name": "stdout",
     "output_type": "stream",
     "text": [
      "55\n"
     ]
    }
   ],
   "source": [
    "sum =0\n",
    "for count in range(11): #1到10沒有11,(step1 間隔1位數)\n",
    "    sum= sum+count\n",
    "print(sum)"
   ]
  },
  {
   "cell_type": "code",
   "execution_count": 7,
   "metadata": {},
   "outputs": [
    {
     "name": "stdout",
     "output_type": "stream",
     "text": [
      "55\n"
     ]
    }
   ],
   "source": [
    "sum =0\n",
    "for count in range(1,11): #1 2 3 4 5 6 7 8 9 10沒有11,(step1 間隔1位數)\n",
    "    sum= sum+count\n",
    "print(sum)"
   ]
  },
  {
   "cell_type": "code",
   "execution_count": 8,
   "metadata": {},
   "outputs": [
    {
     "name": "stdout",
     "output_type": "stream",
     "text": [
      "25\n"
     ]
    }
   ],
   "source": [
    "sum =0\n",
    "for count in range(1,11,2): #1 3 5 7 9 沒有11,(step1 間隔2位數)\n",
    "    sum= sum+count\n",
    "print(sum)"
   ]
  },
  {
   "cell_type": "code",
   "execution_count": 9,
   "metadata": {},
   "outputs": [
    {
     "name": "stdout",
     "output_type": "stream",
     "text": [
      "f\n",
      "o\n",
      "r\n",
      " \n",
      "s\n",
      "t\n",
      "a\n",
      "t\n",
      "e\n",
      "m\n",
      "e\n",
      "n\n",
      "t\n",
      "end list\n"
     ]
    }
   ],
   "source": [
    "mylist =\"for statement\"\n",
    "for word in mylist:\n",
    "    print(word)\n",
    "else:\n",
    "    print(\"end list\")"
   ]
  },
  {
   "cell_type": "markdown",
   "metadata": {},
   "source": [
    "## 雞兔同籠 假設一個農場雞兔共有35頭，94隻腳，請問共有幾隻雞，幾隻兔?"
   ]
  },
  {
   "cell_type": "code",
   "execution_count": 10,
   "metadata": {},
   "outputs": [
    {
     "name": "stdout",
     "output_type": "stream",
     "text": [
      "雞有 23 隻，兔子有 12 隻\n"
     ]
    }
   ],
   "source": [
    "for chicken in range(0,35):\n",
    "    rabbit =35-chicken\n",
    "    if (2*chicken+4*rabbit)==94:\n",
    "        print(\"雞有\",chicken,\"隻，兔子有\",rabbit,\"隻\")\n",
    "        break\n",
    "else:\n",
    "    print(\"無解\")"
   ]
  },
  {
   "cell_type": "markdown",
   "metadata": {},
   "source": [
    "## while迴圈"
   ]
  },
  {
   "cell_type": "code",
   "execution_count": 11,
   "metadata": {},
   "outputs": [
    {
     "name": "stdout",
     "output_type": "stream",
     "text": [
      "1+2+3+....+10= 55\n"
     ]
    }
   ],
   "source": [
    "sum =0\n",
    "count =1\n",
    "while count <=10:\n",
    "    sum=sum+count\n",
    "    count=count+1\n",
    "print(\"1+2+3+....+10=\",sum)"
   ]
  },
  {
   "cell_type": "markdown",
   "metadata": {},
   "source": [
    "## 本金10000元，年利率1%，請問多久銀行存款會加倍?"
   ]
  },
  {
   "cell_type": "code",
   "execution_count": 7,
   "metadata": {},
   "outputs": [
    {
     "name": "stdout",
     "output_type": "stream",
     "text": [
      "70 年以後，存款加倍，為 20067 元\n"
     ]
    }
   ],
   "source": [
    "x =10000\n",
    "year =0\n",
    "while x <= 20000:\n",
    "    year += 1\n",
    "    x=x*1.01\n",
    "print(str(year),\"年以後，存款加倍，為\",int(x),\"元\")"
   ]
  },
  {
   "cell_type": "markdown",
   "metadata": {},
   "source": [
    "# 猜數字"
   ]
  },
  {
   "cell_type": "code",
   "execution_count": 10,
   "metadata": {},
   "outputs": [
    {
     "name": "stdout",
     "output_type": "stream",
     "text": [
      "請輸入數字1~100之間的數字:11\n",
      "猜對了\n",
      "請輸入數字1~100之間的數字:20\n",
      "恭喜你答對: 20\n"
     ]
    }
   ],
   "source": [
    "number =20\n",
    "while True:\n",
    "    guess =int(input('請輸入數字1~100之間的數字:'))\n",
    "    if guess == number:\n",
    "        print('恭喜你答對:',number)\n",
    "        break\n",
    "    else:\n",
    "        print('猜錯了')"
   ]
  },
  {
   "cell_type": "markdown",
   "metadata": {},
   "source": [
    "# 猜數字 亂數"
   ]
  },
  {
   "cell_type": "code",
   "execution_count": 1,
   "metadata": {},
   "outputs": [
    {
     "name": "stdout",
     "output_type": "stream",
     "text": [
      "答案: 72\n",
      "請輸入數字1~100之間的數字:73\n",
      "猜錯了\n",
      "請輸入數字1~100之間的數字:72\n",
      "恭喜你答對: 72\n"
     ]
    }
   ],
   "source": [
    "import random\n",
    "number =  random.randint(0,101)\n",
    "print('答案:',number)\n",
    "while True:\n",
    "    guess =int(input('請輸入數字1~100之間的數字:'))    \n",
    "    if guess == number:\n",
    "        print('恭喜你答對:',number)\n",
    "        break\n",
    "    else:\n",
    "        print('猜錯了')"
   ]
  },
  {
   "cell_type": "code",
   "execution_count": null,
   "metadata": {},
   "outputs": [],
   "source": []
  },
  {
   "cell_type": "code",
   "execution_count": null,
   "metadata": {},
   "outputs": [],
   "source": []
  }
 ],
 "metadata": {
  "kernelspec": {
   "display_name": "Python 3",
   "language": "python",
   "name": "python3"
  },
  "language_info": {
   "codemirror_mode": {
    "name": "ipython",
    "version": 3
   },
   "file_extension": ".py",
   "mimetype": "text/x-python",
   "name": "python",
   "nbconvert_exporter": "python",
   "pygments_lexer": "ipython3",
   "version": "3.7.4"
  }
 },
 "nbformat": 4,
 "nbformat_minor": 2
}
